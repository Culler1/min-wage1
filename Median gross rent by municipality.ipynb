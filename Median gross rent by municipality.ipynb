{
 "cells": [
  {
   "cell_type": "code",
   "execution_count": null,
   "metadata": {},
   "outputs": [],
   "source": [
    "import geopandas as gpd\n",
    "import pandas as pd\n",
    "import json\n",
    "import plotly.express as px\n",
    "import zipfile\n",
    "with zipfile.ZipFile(\"map5.zip\",\"r\") as zip_ref:\n",
    "    zip_ref.extractall()"
   ]
  },
  {
   "cell_type": "code",
   "execution_count": null,
   "metadata": {},
   "outputs": [],
   "source": [
    "gdf1=gpd.read_file(\"map5.geojson\")\n",
    "gdf1=gdf1.to_file(\"map6.geojson\",driver='GeoJSON')\n",
    "df1=pd.read_csv(\"main_table1.csv\")\n",
    "df1['aff_rent_at_median']=((df1.renter_past_year_median_salaray*.3)/12).round(2)\n",
    "df1['aff_rent_diff']=df1.aff_rent_at_median-df1.median_rent\n",
    "df1['renter_occupied_pct']=(df1.renter_occ/df1.all_units).round(3)*100\n",
    "#df1['median_rent']=df1.median_rent.str.replace(\"-\",\"0\").astype(float)"
   ]
  },
  {
   "cell_type": "code",
   "execution_count": null,
   "metadata": {},
   "outputs": [],
   "source": [
    "with open(\"map6.geojson\", \"r\") as infile:\n",
    "    pacitiesjson = json.load(infile)"
   ]
  },
  {
   "cell_type": "markdown",
   "metadata": {},
   "source": [
    "# Next, we use census data for the median gross rent by municipality under the same census table. "
   ]
  },
  {
   "cell_type": "code",
   "execution_count": null,
   "metadata": {},
   "outputs": [],
   "source": [
    "fig = px.choropleth_mapbox(df1,geojson=pacitiesjson,\n",
    "                           locations='GPID',featureidkey='properties.GPID',\n",
    "                           color=\"median_rent\",\n",
    "                           hover_name='NAME',\n",
    "                           range_color=(df1.median_rent.min(),df1.median_rent.median()*2),\n",
    "                           mapbox_style=\"carto-positron\",\n",
    "                           color_continuous_scale=\"RdYlGn_r\",\n",
    "                           zoom=6.3, center = {\"lat\": 40.9998307, \"lon\": -77.6162591},\n",
    "                           opacity=0.5,)\n",
    "\n",
    "fig.show()"
   ]
  }
 ],
 "metadata": {
  "kernelspec": {
   "display_name": "Python 3",
   "language": "python",
   "name": "python3"
  },
  "language_info": {
   "codemirror_mode": {
    "name": "ipython",
    "version": 3
   },
   "file_extension": ".py",
   "mimetype": "text/x-python",
   "name": "python",
   "nbconvert_exporter": "python",
   "pygments_lexer": "ipython3",
   "version": "3.8.5"
  }
 },
 "nbformat": 4,
 "nbformat_minor": 4
}
