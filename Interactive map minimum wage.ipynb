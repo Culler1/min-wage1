{
 "cells": [
  {
   "cell_type": "code",
   "execution_count": 11,
   "metadata": {},
   "outputs": [],
   "source": [
    "import geopandas as gpd\n",
    "import pandas as pd\n",
    "import json\n",
    "import plotly.express as px"
   ]
  },
  {
   "cell_type": "code",
   "execution_count": 8,
   "metadata": {},
   "outputs": [],
   "source": [
    "county_to_filter=['Bucks','Berks','Montgomery','Philadelphia','Chester','Delaware']\n",
    "gdf1=gpd.read_file(\"map5.geojson\")\n",
    "gdf1=gdf1[gdf1.county.isin(county_to_filter)].to_file(\"map6.geojson\",driver='GeoJSON')\n",
    "df1=pd.read_csv(\"main_table1.csv\")\n",
    "df1['median_rent']=df1.median_rent.str.replace(\"-\",\"0\").astype(float)\n",
    "#low1=df1.median_rent.describe()[1]-df1.median_rent.describe()[2]\n",
    "#max1=df1.median_rent.describe()[1]+df1.median_rent.describe()[2]\n",
    "df1=df1[df1.county.isin(county_to_filter)]\n"
   ]
  },
  {
   "cell_type": "code",
   "execution_count": 9,
   "metadata": {},
   "outputs": [],
   "source": [
    "with open(\"map6.geojson\", \"r\") as infile:\n",
    "    pacitiesjson = json.load(infile)"
   ]
  },
  {
   "cell_type": "code",
   "execution_count": 14,
   "metadata": {},
   "outputs": [
    {
     "ename": "SyntaxError",
     "evalue": "unexpected EOF while parsing (<ipython-input-14-30d9c55c4868>, line 11)",
     "output_type": "error",
     "traceback": [
      "\u001b[1;36m  File \u001b[1;32m\"<ipython-input-14-30d9c55c4868>\"\u001b[1;36m, line \u001b[1;32m11\u001b[0m\n\u001b[1;33m    fig.show(\u001b[0m\n\u001b[1;37m             ^\u001b[0m\n\u001b[1;31mSyntaxError\u001b[0m\u001b[1;31m:\u001b[0m unexpected EOF while parsing\n"
     ]
    }
   ],
   "source": [
    "fig = px.choropleth_mapbox(df1,geojson=pacitiesjson,\n",
    "                           locations='GPID',featureidkey='properties.GPID',\n",
    "                           color=\"median_rent\",\n",
    "                           hover_name='NAME',\n",
    "                           range_color=(df1.median_rent.min(),df1.median_rent.median()*2),\n",
    "                           mapbox_style=\"carto-positron\",\n",
    "                           color_continuous_scale=\"RdYlGn_r\",\n",
    "                           zoom=6.3, center = {\"lat\": 40.9998307, \"lon\": -77.6162591},\n",
    "                           opacity=0.5,)\n",
    "\n",
    "fig.show()"
   ]
  },
  {
   "cell_type": "code",
   "execution_count": null,
   "metadata": {},
   "outputs": [],
   "source": []
  }
 ],
 "metadata": {
  "kernelspec": {
   "display_name": "Python 3",
   "language": "python",
   "name": "python3"
  },
  "language_info": {
   "codemirror_mode": {
    "name": "ipython",
    "version": 3
   },
   "file_extension": ".py",
   "mimetype": "text/x-python",
   "name": "python",
   "nbconvert_exporter": "python",
   "pygments_lexer": "ipython3",
   "version": "3.8.5"
  }
 },
 "nbformat": 4,
 "nbformat_minor": 4
}
