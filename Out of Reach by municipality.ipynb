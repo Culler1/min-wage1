{
 "cells": [
  {
   "cell_type": "code",
   "execution_count": null,
   "metadata": {},
   "outputs": [],
   "source": [
    "import geopandas as gpd\n",
    "import pandas as pd\n",
    "import json\n",
    "import plotly.express as px\n",
    "import zipfile\n",
    "with zipfile.ZipFile(\"map5.zip\",\"r\") as zip_ref:\n",
    "    zip_ref.extractall()"
   ]
  },
  {
   "cell_type": "code",
   "execution_count": null,
   "metadata": {},
   "outputs": [],
   "source": [
    "gdf1=gpd.read_file(\"map5.geojson\")\n",
    "gdf1=gdf1.to_file(\"map6.geojson\",driver='GeoJSON')\n",
    "df1=pd.read_csv(\"main_table1.csv\")\n",
    "df1['aff_rent_at_median']=((df1.renter_past_year_median_salaray*.3)/12).round(2)\n",
    "df1['aff_rent_diff']=df1.aff_rent_at_median-df1.median_rent\n",
    "#df1['median_rent']=df1.median_rent.str.replace(\"-\",\"0\").astype(float)"
   ]
  },
  {
   "cell_type": "code",
   "execution_count": null,
   "metadata": {},
   "outputs": [],
   "source": [
    "with open(\"map6.geojson\", \"r\") as infile:\n",
    "    pacitiesjson = json.load(infile)"
   ]
  },
  {
   "cell_type": "markdown",
   "metadata": {},
   "source": [
    "# Finally, another 2019 5-year estimate for the median renter wage over the past 12 months was used for the next map. I calculated the affordable rent at median salary using the NLIHC Out of Reach report method ((salary\\*0.3)\\\\12). Then subtracted that rent from the median rent in the map above.\n",
    "# For the color bar, I've set the lowest value to 0, so any negative difference is in the red. I set the highest value to the current minimum wage * 40."
   ]
  },
  {
   "cell_type": "code",
   "execution_count": null,
   "metadata": {},
   "outputs": [],
   "source": [
    "fig = px.choropleth_mapbox(df1,geojson=pacitiesjson,\n",
    "                           locations='GPID',featureidkey='properties.GPID',\n",
    "                           color=\"aff_rent_diff\",\n",
    "                           hover_name='NAME',\n",
    "                           range_color=(0,(7.25*40)),\n",
    "                           mapbox_style=\"carto-positron\",\n",
    "                           color_continuous_scale=\"RdYlGn\",\n",
    "                           zoom=6.3, center = {\"lat\": 40.9998307, \"lon\": -77.6162591},\n",
    "                           opacity=0.5,)\n",
    "\n",
    "fig.show()"
   ]
  }
 ],
 "metadata": {
  "kernelspec": {
   "display_name": "Python 3",
   "language": "python",
   "name": "python3"
  },
  "language_info": {
   "codemirror_mode": {
    "name": "ipython",
    "version": 3
   },
   "file_extension": ".py",
   "mimetype": "text/x-python",
   "name": "python",
   "nbconvert_exporter": "python",
   "pygments_lexer": "ipython3",
   "version": "3.8.5"
  }
 },
 "nbformat": 4,
 "nbformat_minor": 4
}
